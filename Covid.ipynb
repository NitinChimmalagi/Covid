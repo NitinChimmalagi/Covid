{
 "cells": [
  {
   "cell_type": "code",
   "execution_count": null,
   "id": "85c5af64-e5e6-46b3-9927-9a50bb6eeaae",
   "metadata": {},
   "outputs": [],
   "source": [
    "import pandas as pd\n",
    "import numpy as np\n",
    "import seaborn as sns\n",
    "sns.set_palette(\"pastel\")\n",
    "import matplotlib.pyplot as plt\n",
    "%matplotlib inline\n"
   ]
  },
  {
   "cell_type": "code",
   "execution_count": 1,
   "id": "73d74e07-7e01-467b-b909-33a5c86e1dcb",
   "metadata": {},
   "outputs": [],
   "source": [
    "df = pd.read_csv(\"C:\\\\Users\\\\nitin\\\\Downloads\\\\COVID clinical trials.csv\",index_col = 0)"
   ]
  },
  {
   "cell_type": "code",
   "execution_count": 2,
   "id": "61e9c346-fc7c-4d8c-bc11-04ae44c3864b",
   "metadata": {},
   "outputs": [
    {
     "data": {
      "text/html": [
       "<div>\n",
       "<style scoped>\n",
       "    .dataframe tbody tr th:only-of-type {\n",
       "        vertical-align: middle;\n",
       "    }\n",
       "\n",
       "    .dataframe tbody tr th {\n",
       "        vertical-align: top;\n",
       "    }\n",
       "\n",
       "    .dataframe thead th {\n",
       "        text-align: right;\n",
       "    }\n",
       "</style>\n",
       "<table border=\"1\" class=\"dataframe\">\n",
       "  <thead>\n",
       "    <tr style=\"text-align: right;\">\n",
       "      <th></th>\n",
       "      <th>NCT Number</th>\n",
       "      <th>Title</th>\n",
       "      <th>Acronym</th>\n",
       "      <th>Status</th>\n",
       "      <th>Study Results</th>\n",
       "      <th>Conditions</th>\n",
       "      <th>Interventions</th>\n",
       "      <th>Outcome Measures</th>\n",
       "      <th>Sponsor/Collaborators</th>\n",
       "      <th>Gender</th>\n",
       "      <th>...</th>\n",
       "      <th>Other IDs</th>\n",
       "      <th>Start Date</th>\n",
       "      <th>Primary Completion Date</th>\n",
       "      <th>Completion Date</th>\n",
       "      <th>First Posted</th>\n",
       "      <th>Results First Posted</th>\n",
       "      <th>Last Update Posted</th>\n",
       "      <th>Locations</th>\n",
       "      <th>Study Documents</th>\n",
       "      <th>URL</th>\n",
       "    </tr>\n",
       "    <tr>\n",
       "      <th>Rank</th>\n",
       "      <th></th>\n",
       "      <th></th>\n",
       "      <th></th>\n",
       "      <th></th>\n",
       "      <th></th>\n",
       "      <th></th>\n",
       "      <th></th>\n",
       "      <th></th>\n",
       "      <th></th>\n",
       "      <th></th>\n",
       "      <th></th>\n",
       "      <th></th>\n",
       "      <th></th>\n",
       "      <th></th>\n",
       "      <th></th>\n",
       "      <th></th>\n",
       "      <th></th>\n",
       "      <th></th>\n",
       "      <th></th>\n",
       "      <th></th>\n",
       "      <th></th>\n",
       "    </tr>\n",
       "  </thead>\n",
       "  <tbody>\n",
       "    <tr>\n",
       "      <th>1</th>\n",
       "      <td>NCT04785898</td>\n",
       "      <td>Diagnostic Performance of the ID Now™ COVID-19...</td>\n",
       "      <td>COVID-IDNow</td>\n",
       "      <td>Active, not recruiting</td>\n",
       "      <td>No Results Available</td>\n",
       "      <td>Covid19</td>\n",
       "      <td>Diagnostic Test: ID Now™ COVID-19 Screening Test</td>\n",
       "      <td>Evaluate the diagnostic performance of the ID ...</td>\n",
       "      <td>Groupe Hospitalier Paris Saint Joseph</td>\n",
       "      <td>All</td>\n",
       "      <td>...</td>\n",
       "      <td>COVID-IDNow</td>\n",
       "      <td>November 9, 2020</td>\n",
       "      <td>December 22, 2020</td>\n",
       "      <td>April 30, 2021</td>\n",
       "      <td>March 8, 2021</td>\n",
       "      <td>NaN</td>\n",
       "      <td>March 8, 2021</td>\n",
       "      <td>Groupe Hospitalier Paris Saint-Joseph, Paris, ...</td>\n",
       "      <td>NaN</td>\n",
       "      <td>https://ClinicalTrials.gov/show/NCT04785898</td>\n",
       "    </tr>\n",
       "    <tr>\n",
       "      <th>2</th>\n",
       "      <td>NCT04595136</td>\n",
       "      <td>Study to Evaluate the Efficacy of COVID19-0001...</td>\n",
       "      <td>COVID-19</td>\n",
       "      <td>Not yet recruiting</td>\n",
       "      <td>No Results Available</td>\n",
       "      <td>SARS-CoV-2 Infection</td>\n",
       "      <td>Drug: Drug COVID19-0001-USR|Drug: normal saline</td>\n",
       "      <td>Change on viral load results from baseline aft...</td>\n",
       "      <td>United Medical Specialties</td>\n",
       "      <td>All</td>\n",
       "      <td>...</td>\n",
       "      <td>COVID19-0001-USR</td>\n",
       "      <td>November 2, 2020</td>\n",
       "      <td>December 15, 2020</td>\n",
       "      <td>January 29, 2021</td>\n",
       "      <td>October 20, 2020</td>\n",
       "      <td>NaN</td>\n",
       "      <td>October 20, 2020</td>\n",
       "      <td>Cimedical, Barranquilla, Atlantico, Colombia</td>\n",
       "      <td>NaN</td>\n",
       "      <td>https://ClinicalTrials.gov/show/NCT04595136</td>\n",
       "    </tr>\n",
       "    <tr>\n",
       "      <th>3</th>\n",
       "      <td>NCT04395482</td>\n",
       "      <td>Lung CT Scan Analysis of SARS-CoV2 Induced Lun...</td>\n",
       "      <td>TAC-COVID19</td>\n",
       "      <td>Recruiting</td>\n",
       "      <td>No Results Available</td>\n",
       "      <td>covid19</td>\n",
       "      <td>Other: Lung CT scan analysis in COVID-19 patients</td>\n",
       "      <td>A qualitative analysis of parenchymal lung dam...</td>\n",
       "      <td>University of Milano Bicocca</td>\n",
       "      <td>All</td>\n",
       "      <td>...</td>\n",
       "      <td>TAC-COVID19</td>\n",
       "      <td>May 7, 2020</td>\n",
       "      <td>June 15, 2021</td>\n",
       "      <td>June 15, 2021</td>\n",
       "      <td>May 20, 2020</td>\n",
       "      <td>NaN</td>\n",
       "      <td>November 9, 2020</td>\n",
       "      <td>Ospedale Papa Giovanni XXIII, Bergamo, Italy|P...</td>\n",
       "      <td>NaN</td>\n",
       "      <td>https://ClinicalTrials.gov/show/NCT04395482</td>\n",
       "    </tr>\n",
       "    <tr>\n",
       "      <th>4</th>\n",
       "      <td>NCT04416061</td>\n",
       "      <td>The Role of a Private Hospital in Hong Kong Am...</td>\n",
       "      <td>COVID-19</td>\n",
       "      <td>Active, not recruiting</td>\n",
       "      <td>No Results Available</td>\n",
       "      <td>COVID</td>\n",
       "      <td>Diagnostic Test: COVID 19 Diagnostic Test</td>\n",
       "      <td>Proportion of asymptomatic subjects|Proportion...</td>\n",
       "      <td>Hong Kong Sanatorium &amp; Hospital</td>\n",
       "      <td>All</td>\n",
       "      <td>...</td>\n",
       "      <td>RC-2020-08</td>\n",
       "      <td>May 25, 2020</td>\n",
       "      <td>July 31, 2020</td>\n",
       "      <td>August 31, 2020</td>\n",
       "      <td>June 4, 2020</td>\n",
       "      <td>NaN</td>\n",
       "      <td>June 4, 2020</td>\n",
       "      <td>Hong Kong Sanatorium &amp; Hospital, Hong Kong, Ho...</td>\n",
       "      <td>NaN</td>\n",
       "      <td>https://ClinicalTrials.gov/show/NCT04416061</td>\n",
       "    </tr>\n",
       "    <tr>\n",
       "      <th>5</th>\n",
       "      <td>NCT04395924</td>\n",
       "      <td>Maternal-foetal Transmission of SARS-Cov-2</td>\n",
       "      <td>TMF-COVID-19</td>\n",
       "      <td>Recruiting</td>\n",
       "      <td>No Results Available</td>\n",
       "      <td>Maternal Fetal Infection Transmission|COVID-19...</td>\n",
       "      <td>Diagnostic Test: Diagnosis of SARS-Cov2 by RT-...</td>\n",
       "      <td>COVID-19 by positive PCR in cord blood and / o...</td>\n",
       "      <td>Centre Hospitalier Régional d'Orléans|Centre d...</td>\n",
       "      <td>Female</td>\n",
       "      <td>...</td>\n",
       "      <td>CHRO-2020-10</td>\n",
       "      <td>May 5, 2020</td>\n",
       "      <td>May 2021</td>\n",
       "      <td>May 2021</td>\n",
       "      <td>May 20, 2020</td>\n",
       "      <td>NaN</td>\n",
       "      <td>June 4, 2020</td>\n",
       "      <td>CHR Orléans, Orléans, France</td>\n",
       "      <td>NaN</td>\n",
       "      <td>https://ClinicalTrials.gov/show/NCT04395924</td>\n",
       "    </tr>\n",
       "  </tbody>\n",
       "</table>\n",
       "<p>5 rows × 26 columns</p>\n",
       "</div>"
      ],
      "text/plain": [
       "       NCT Number                                              Title  \\\n",
       "Rank                                                                   \n",
       "1     NCT04785898  Diagnostic Performance of the ID Now™ COVID-19...   \n",
       "2     NCT04595136  Study to Evaluate the Efficacy of COVID19-0001...   \n",
       "3     NCT04395482  Lung CT Scan Analysis of SARS-CoV2 Induced Lun...   \n",
       "4     NCT04416061  The Role of a Private Hospital in Hong Kong Am...   \n",
       "5     NCT04395924         Maternal-foetal Transmission of SARS-Cov-2   \n",
       "\n",
       "           Acronym                  Status         Study Results  \\\n",
       "Rank                                                               \n",
       "1      COVID-IDNow  Active, not recruiting  No Results Available   \n",
       "2         COVID-19      Not yet recruiting  No Results Available   \n",
       "3      TAC-COVID19              Recruiting  No Results Available   \n",
       "4         COVID-19  Active, not recruiting  No Results Available   \n",
       "5     TMF-COVID-19              Recruiting  No Results Available   \n",
       "\n",
       "                                             Conditions  \\\n",
       "Rank                                                      \n",
       "1                                               Covid19   \n",
       "2                                  SARS-CoV-2 Infection   \n",
       "3                                               covid19   \n",
       "4                                                 COVID   \n",
       "5     Maternal Fetal Infection Transmission|COVID-19...   \n",
       "\n",
       "                                          Interventions  \\\n",
       "Rank                                                      \n",
       "1      Diagnostic Test: ID Now™ COVID-19 Screening Test   \n",
       "2       Drug: Drug COVID19-0001-USR|Drug: normal saline   \n",
       "3     Other: Lung CT scan analysis in COVID-19 patients   \n",
       "4             Diagnostic Test: COVID 19 Diagnostic Test   \n",
       "5     Diagnostic Test: Diagnosis of SARS-Cov2 by RT-...   \n",
       "\n",
       "                                       Outcome Measures  \\\n",
       "Rank                                                      \n",
       "1     Evaluate the diagnostic performance of the ID ...   \n",
       "2     Change on viral load results from baseline aft...   \n",
       "3     A qualitative analysis of parenchymal lung dam...   \n",
       "4     Proportion of asymptomatic subjects|Proportion...   \n",
       "5     COVID-19 by positive PCR in cord blood and / o...   \n",
       "\n",
       "                                  Sponsor/Collaborators  Gender  ...  \\\n",
       "Rank                                                             ...   \n",
       "1                 Groupe Hospitalier Paris Saint Joseph     All  ...   \n",
       "2                            United Medical Specialties     All  ...   \n",
       "3                          University of Milano Bicocca     All  ...   \n",
       "4                       Hong Kong Sanatorium & Hospital     All  ...   \n",
       "5     Centre Hospitalier Régional d'Orléans|Centre d...  Female  ...   \n",
       "\n",
       "             Other IDs        Start Date  Primary Completion Date  \\\n",
       "Rank                                                                \n",
       "1          COVID-IDNow  November 9, 2020        December 22, 2020   \n",
       "2     COVID19-0001-USR  November 2, 2020        December 15, 2020   \n",
       "3          TAC-COVID19       May 7, 2020            June 15, 2021   \n",
       "4           RC-2020-08      May 25, 2020            July 31, 2020   \n",
       "5         CHRO-2020-10       May 5, 2020                 May 2021   \n",
       "\n",
       "       Completion Date      First Posted Results First Posted  \\\n",
       "Rank                                                            \n",
       "1       April 30, 2021     March 8, 2021                  NaN   \n",
       "2     January 29, 2021  October 20, 2020                  NaN   \n",
       "3        June 15, 2021      May 20, 2020                  NaN   \n",
       "4      August 31, 2020      June 4, 2020                  NaN   \n",
       "5             May 2021      May 20, 2020                  NaN   \n",
       "\n",
       "     Last Update Posted                                          Locations  \\\n",
       "Rank                                                                         \n",
       "1         March 8, 2021  Groupe Hospitalier Paris Saint-Joseph, Paris, ...   \n",
       "2      October 20, 2020       Cimedical, Barranquilla, Atlantico, Colombia   \n",
       "3      November 9, 2020  Ospedale Papa Giovanni XXIII, Bergamo, Italy|P...   \n",
       "4          June 4, 2020  Hong Kong Sanatorium & Hospital, Hong Kong, Ho...   \n",
       "5          June 4, 2020                       CHR Orléans, Orléans, France   \n",
       "\n",
       "     Study Documents                                          URL  \n",
       "Rank                                                               \n",
       "1                NaN  https://ClinicalTrials.gov/show/NCT04785898  \n",
       "2                NaN  https://ClinicalTrials.gov/show/NCT04595136  \n",
       "3                NaN  https://ClinicalTrials.gov/show/NCT04395482  \n",
       "4                NaN  https://ClinicalTrials.gov/show/NCT04416061  \n",
       "5                NaN  https://ClinicalTrials.gov/show/NCT04395924  \n",
       "\n",
       "[5 rows x 26 columns]"
      ]
     },
     "execution_count": 2,
     "metadata": {},
     "output_type": "execute_result"
    }
   ],
   "source": [
    "df.head()"
   ]
  },
  {
   "cell_type": "code",
   "execution_count": 3,
   "id": "d32c8b01-aa5b-4f8e-ac10-ff7069a029c6",
   "metadata": {},
   "outputs": [
    {
     "name": "stdout",
     "output_type": "stream",
     "text": [
      "<class 'pandas.core.frame.DataFrame'>\n",
      "Index: 5783 entries, 1 to 5783\n",
      "Data columns (total 26 columns):\n",
      " #   Column                   Non-Null Count  Dtype  \n",
      "---  ------                   --------------  -----  \n",
      " 0   NCT Number               5783 non-null   object \n",
      " 1   Title                    5783 non-null   object \n",
      " 2   Acronym                  2480 non-null   object \n",
      " 3   Status                   5783 non-null   object \n",
      " 4   Study Results            5783 non-null   object \n",
      " 5   Conditions               5783 non-null   object \n",
      " 6   Interventions            4897 non-null   object \n",
      " 7   Outcome Measures         5748 non-null   object \n",
      " 8   Sponsor/Collaborators    5783 non-null   object \n",
      " 9   Gender                   5773 non-null   object \n",
      " 10  Age                      5783 non-null   object \n",
      " 11  Phases                   3322 non-null   object \n",
      " 12  Enrollment               5749 non-null   float64\n",
      " 13  Funded Bys               5783 non-null   object \n",
      " 14  Study Type               5783 non-null   object \n",
      " 15  Study Designs            5748 non-null   object \n",
      " 16  Other IDs                5782 non-null   object \n",
      " 17  Start Date               5749 non-null   object \n",
      " 18  Primary Completion Date  5747 non-null   object \n",
      " 19  Completion Date          5747 non-null   object \n",
      " 20  First Posted             5783 non-null   object \n",
      " 21  Results First Posted     36 non-null     object \n",
      " 22  Last Update Posted       5783 non-null   object \n",
      " 23  Locations                5198 non-null   object \n",
      " 24  Study Documents          182 non-null    object \n",
      " 25  URL                      5783 non-null   object \n",
      "dtypes: float64(1), object(25)\n",
      "memory usage: 1.2+ MB\n"
     ]
    }
   ],
   "source": [
    "df.info()"
   ]
  },
  {
   "cell_type": "code",
   "execution_count": 4,
   "id": "b2dfb420-39cd-4a0c-8959-50e7f539f65a",
   "metadata": {},
   "outputs": [
    {
     "data": {
      "text/html": [
       "<div>\n",
       "<style scoped>\n",
       "    .dataframe tbody tr th:only-of-type {\n",
       "        vertical-align: middle;\n",
       "    }\n",
       "\n",
       "    .dataframe tbody tr th {\n",
       "        vertical-align: top;\n",
       "    }\n",
       "\n",
       "    .dataframe thead th {\n",
       "        text-align: right;\n",
       "    }\n",
       "</style>\n",
       "<table border=\"1\" class=\"dataframe\">\n",
       "  <thead>\n",
       "    <tr style=\"text-align: right;\">\n",
       "      <th></th>\n",
       "      <th>Enrollment</th>\n",
       "    </tr>\n",
       "  </thead>\n",
       "  <tbody>\n",
       "    <tr>\n",
       "      <th>count</th>\n",
       "      <td>5.749000e+03</td>\n",
       "    </tr>\n",
       "    <tr>\n",
       "      <th>mean</th>\n",
       "      <td>1.831949e+04</td>\n",
       "    </tr>\n",
       "    <tr>\n",
       "      <th>std</th>\n",
       "      <td>4.045437e+05</td>\n",
       "    </tr>\n",
       "    <tr>\n",
       "      <th>min</th>\n",
       "      <td>0.000000e+00</td>\n",
       "    </tr>\n",
       "    <tr>\n",
       "      <th>25%</th>\n",
       "      <td>6.000000e+01</td>\n",
       "    </tr>\n",
       "    <tr>\n",
       "      <th>50%</th>\n",
       "      <td>1.700000e+02</td>\n",
       "    </tr>\n",
       "    <tr>\n",
       "      <th>75%</th>\n",
       "      <td>5.600000e+02</td>\n",
       "    </tr>\n",
       "    <tr>\n",
       "      <th>max</th>\n",
       "      <td>2.000000e+07</td>\n",
       "    </tr>\n",
       "  </tbody>\n",
       "</table>\n",
       "</div>"
      ],
      "text/plain": [
       "         Enrollment\n",
       "count  5.749000e+03\n",
       "mean   1.831949e+04\n",
       "std    4.045437e+05\n",
       "min    0.000000e+00\n",
       "25%    6.000000e+01\n",
       "50%    1.700000e+02\n",
       "75%    5.600000e+02\n",
       "max    2.000000e+07"
      ]
     },
     "execution_count": 4,
     "metadata": {},
     "output_type": "execute_result"
    }
   ],
   "source": [
    "df.describe()"
   ]
  },
  {
   "cell_type": "code",
   "execution_count": 5,
   "id": "932232c3-c3ed-4e87-9dbd-13fc7c291d93",
   "metadata": {},
   "outputs": [
    {
     "data": {
      "text/plain": [
       "(5783, 26)"
      ]
     },
     "execution_count": 5,
     "metadata": {},
     "output_type": "execute_result"
    }
   ],
   "source": [
    "df.shape"
   ]
  },
  {
   "cell_type": "code",
   "execution_count": 6,
   "id": "1dba27e6-6050-4e8e-b242-8695614cbd70",
   "metadata": {},
   "outputs": [
    {
     "data": {
      "text/plain": [
       "Index(['NCT Number', 'Title', 'Acronym', 'Status', 'Study Results',\n",
       "       'Conditions', 'Interventions', 'Outcome Measures',\n",
       "       'Sponsor/Collaborators', 'Gender', 'Age', 'Phases', 'Enrollment',\n",
       "       'Funded Bys', 'Study Type', 'Study Designs', 'Other IDs', 'Start Date',\n",
       "       'Primary Completion Date', 'Completion Date', 'First Posted',\n",
       "       'Results First Posted', 'Last Update Posted', 'Locations',\n",
       "       'Study Documents', 'URL'],\n",
       "      dtype='object')"
      ]
     },
     "execution_count": 6,
     "metadata": {},
     "output_type": "execute_result"
    }
   ],
   "source": [
    "df.columns"
   ]
  },
  {
   "cell_type": "code",
   "execution_count": 7,
   "id": "ccc72841-138a-4c92-b3d6-63d34e5c408c",
   "metadata": {},
   "outputs": [
    {
     "data": {
      "text/plain": [
       "Index(['NCT Number', 'Title', 'Acronym', 'Status', 'Study Results',\n",
       "       'Conditions', 'Interventions', 'Outcome Measures',\n",
       "       'Sponsor/Collaborators', 'Gender', 'Age', 'Phases', 'Funded Bys',\n",
       "       'Study Type', 'Study Designs', 'Other IDs', 'Start Date',\n",
       "       'Primary Completion Date', 'Completion Date', 'First Posted',\n",
       "       'Results First Posted', 'Last Update Posted', 'Locations',\n",
       "       'Study Documents', 'URL'],\n",
       "      dtype='object')"
      ]
     },
     "execution_count": 7,
     "metadata": {},
     "output_type": "execute_result"
    }
   ],
   "source": [
    "df.select_dtypes(include = 'object').columns"
   ]
  },
  {
   "cell_type": "code",
   "execution_count": 8,
   "id": "a97a10b5-cc11-4869-b25f-6c42594561a8",
   "metadata": {},
   "outputs": [
    {
     "data": {
      "text/plain": [
       "Index(['Enrollment'], dtype='object')"
      ]
     },
     "execution_count": 8,
     "metadata": {},
     "output_type": "execute_result"
    }
   ],
   "source": [
    "df.select_dtypes(exclude = 'object').columns"
   ]
  },
  {
   "cell_type": "code",
   "execution_count": 9,
   "id": "c04ad30a-d91e-4b76-85bf-ad306821f658",
   "metadata": {},
   "outputs": [
    {
     "data": {
      "text/plain": [
       "NCT Number                  0.000000\n",
       "Title                       0.000000\n",
       "Acronym                    57.115684\n",
       "Status                      0.000000\n",
       "Study Results               0.000000\n",
       "Conditions                  0.000000\n",
       "Interventions              15.320768\n",
       "Outcome Measures            0.605222\n",
       "Sponsor/Collaborators       0.000000\n",
       "Gender                      0.172921\n",
       "Age                         0.000000\n",
       "Phases                     42.555767\n",
       "Enrollment                  0.587930\n",
       "Funded Bys                  0.000000\n",
       "Study Type                  0.000000\n",
       "Study Designs               0.605222\n",
       "Other IDs                   0.017292\n",
       "Start Date                  0.587930\n",
       "Primary Completion Date     0.622514\n",
       "Completion Date             0.622514\n",
       "First Posted                0.000000\n",
       "Results First Posted       99.377486\n",
       "Last Update Posted          0.000000\n",
       "Locations                  10.115857\n",
       "Study Documents            96.852845\n",
       "URL                         0.000000\n",
       "dtype: float64"
      ]
     },
     "execution_count": 9,
     "metadata": {},
     "output_type": "execute_result"
    }
   ],
   "source": [
    "missing_data = df.isnull().mean()*100\n",
    "missing_data"
   ]
  },
  {
   "cell_type": "code",
   "execution_count": 10,
   "id": "8a39c493-f3d6-4a39-baf2-20566d0a2ee6",
   "metadata": {},
   "outputs": [],
   "source": [
    "def visualize_data(data, caption='', ylabel='Density'):\n",
    "    import matplotlib.pyplot as plt\n",
    "    import seaborn as sns\n",
    "    import pandas as pd\n",
    "\n",
    "    # Prepare the data as a DataFrame\n",
    "    plot_df = pd.DataFrame({\n",
    "        'Category': data.index[:40],\n",
    "        'Value': data.values[:40]\n",
    "    })\n",
    "\n",
    "    # Set the color palette and plot\n",
    "    sns.set_palette(\"pastel\")\n",
    "    plt.figure(figsize=(15, 8))\n",
    "    sns.barplot(data=plot_df, x='Category', y='Value', hue='Category', legend=False)\n",
    "    plt.xticks(rotation=90)\n",
    "    plt.title(caption)\n",
    "    plt.ylabel(ylabel)\n",
    "    plt.tight_layout()\n",
    "    plt.show()\n"
   ]
  },
  {
   "cell_type": "code",
   "execution_count": 11,
   "id": "4d986552-234a-4825-afa8-48b159fa363d",
   "metadata": {},
   "outputs": [
    {
     "data": {
      "image/png": "[encoded data removed]",
      "text/plain": [
       "<Figure size 1500x800 with 1 Axes>"
      ]
     },
     "metadata": {},
     "output_type": "display_data"
    }
   ],
   "source": [
    "visualize_data(missing_data , 'Percentage of missing data in each feature')"
   ]
  },
  {
   "cell_type": "code",
   "execution_count": 12,
   "id": "c2fc90ad-7e56-4184-b8ff-cd732d46cabb",
   "metadata": {},
   "outputs": [],
   "source": [
    "# Drop Study Documents and Results First Posted\n",
    "df.drop(['Results First Posted' , 'Study Documents'] , inplace = True , axis = 1 )"
   ]
  },
  {
   "cell_type": "code",
   "execution_count": 13,
   "id": "725c7e86-245b-4cbc-81a6-ce2d23e70c52",
   "metadata": {},
   "outputs": [
    {
     "data": {
      "text/plain": [
       "Index(['NCT Number', 'Title', 'Acronym', 'Status', 'Study Results',\n",
       "       'Conditions', 'Interventions', 'Outcome Measures',\n",
       "       'Sponsor/Collaborators', 'Gender', 'Age', 'Phases', 'Enrollment',\n",
       "       'Funded Bys', 'Study Type', 'Study Designs', 'Other IDs', 'Start Date',\n",
       "       'Primary Completion Date', 'Completion Date', 'First Posted',\n",
       "       'Last Update Posted', 'Locations', 'URL'],\n",
       "      dtype='object')"
      ]
     },
     "execution_count": 13,
     "metadata": {},
     "output_type": "execute_result"
    }
   ],
   "source": [
    "# Columns in the dataset after dropping Study Documents and Results First Posted\n",
    "df.columns"
   ]
  },
  {
   "cell_type": "code",
   "execution_count": 14,
   "id": "01cb947e-3cab-4ac8-af2a-9f2d3cd89d28",
   "metadata": {},
   "outputs": [
    {
     "name": "stdout",
     "output_type": "stream",
     "text": [
      "Shape before dropping duplicates data (5783, 24)\n",
      "Shape after dropping duplicates data (5783, 24)\n"
     ]
    }
   ],
   "source": [
    "# Drop Duplicate Rows\n",
    "print(f\"Shape before dropping duplicates data {df.shape}\")\n",
    "df.drop_duplicates(inplace = True)\n",
    "print(f\"Shape after dropping duplicates data {df.shape}\")"
   ]
  },
  {
   "cell_type": "code",
   "execution_count": 15,
   "id": "41494ad5-902f-404c-92b6-9a19ad2a289b",
   "metadata": {},
   "outputs": [
    {
     "name": "stdout",
     "output_type": "stream",
     "text": [
      "Shape before dropping Null rows (5783, 24)\n",
      "Shape after dropping Null rows (5783, 24)\n"
     ]
    }
   ],
   "source": [
    "# Drop rows that have less than 10 non-null values\n",
    "print(f\"Shape before dropping Null rows {df.shape}\")\n",
    "df.dropna(thresh=10, axis=0, inplace=True)\n",
    "print(f\"Shape after dropping Null rows {df.shape}\")"
   ]
  },
  {
   "cell_type": "code",
   "execution_count": 16,
   "id": "6eccd128-52cc-469e-832c-17a9e8a70d1f",
   "metadata": {},
   "outputs": [
    {
     "data": {
      "text/plain": [
       "NCT Number                  0.000000\n",
       "Title                       0.000000\n",
       "Acronym                    57.115684\n",
       "Status                      0.000000\n",
       "Study Results               0.000000\n",
       "Conditions                  0.000000\n",
       "Interventions              15.320768\n",
       "Outcome Measures            0.605222\n",
       "Sponsor/Collaborators       0.000000\n",
       "Gender                      0.172921\n",
       "Age                         0.000000\n",
       "Phases                     42.555767\n",
       "Enrollment                  0.587930\n",
       "Funded Bys                  0.000000\n",
       "Study Type                  0.000000\n",
       "Study Designs               0.605222\n",
       "Other IDs                   0.017292\n",
       "Start Date                  0.587930\n",
       "Primary Completion Date     0.622514\n",
       "Completion Date             0.622514\n",
       "First Posted                0.000000\n",
       "Last Update Posted          0.000000\n",
       "Locations                  10.115857\n",
       "URL                         0.000000\n",
       "dtype: float64"
      ]
     },
     "execution_count": 16,
     "metadata": {},
     "output_type": "execute_result"
    }
   ],
   "source": [
    "df.isnull().mean() * 100"
   ]
  },
  {
   "cell_type": "code",
   "execution_count": 17,
   "id": "21324cf3-96c5-43b3-b8b0-38692d38d4c6",
   "metadata": {},
   "outputs": [],
   "source": [
    "# We can extract a new feature form The Location which is the country where the study hold\n",
    "countries = [ str(df.Locations.iloc[i]).split(',')[-1] for i in range(df.shape[0])]\n",
    "df['Country'] = countries"
   ]
  },
  {
   "cell_type": "code",
   "execution_count": 18,
   "id": "128dde8c-7dc2-4c40-b882-fb8fa1e3eced",
   "metadata": {},
   "outputs": [
    {
     "data": {
      "text/plain": [
       "Index(['NCT Number', 'Title', 'Acronym', 'Status', 'Study Results',\n",
       "       'Conditions', 'Interventions', 'Outcome Measures',\n",
       "       'Sponsor/Collaborators', 'Gender', 'Age', 'Phases', 'Enrollment',\n",
       "       'Funded Bys', 'Study Type', 'Study Designs', 'Other IDs', 'Start Date',\n",
       "       'Primary Completion Date', 'Completion Date', 'First Posted',\n",
       "       'Last Update Posted', 'Locations', 'URL', 'Country'],\n",
       "      dtype='object')"
      ]
     },
     "execution_count": 18,
     "metadata": {},
     "output_type": "execute_result"
    }
   ],
   "source": [
    "df.columns"
   ]
  },
  {
   "cell_type": "code",
   "execution_count": 19,
   "id": "067bc524-af67-4d3c-affd-33ff2862bbb3",
   "metadata": {},
   "outputs": [
    {
     "data": {
      "text/plain": [
       "Country\n",
       " United States          1267\n",
       " France                  647\n",
       "nan                      585\n",
       " United Kingdom          306\n",
       " Italy                   235\n",
       " Spain                   234\n",
       " Turkey                  219\n",
       " Canada                  202\n",
       " Egypt                   192\n",
       " China                   171\n",
       " Brazil                  137\n",
       " Germany                 128\n",
       " Belgium                  91\n",
       " Mexico                   88\n",
       " Switzerland              76\n",
       " Russian Federation       69\n",
       " Sweden                   57\n",
       " Denmark                  56\n",
       " Israel                   56\n",
       " India                    55\n",
       " Pakistan                 53\n",
       " Argentina                47\n",
       " Netherlands              46\n",
       " Norway                   38\n",
       " Hong Kong                36\n",
       " Colombia                 33\n",
       " Republic of              31\n",
       " Singapore                29\n",
       " Austria                  29\n",
       " Poland                   29\n",
       " Saudi Arabia             27\n",
       " Greece                   26\n",
       " Australia                26\n",
       " Islamic Republic of      23\n",
       " South Africa             22\n",
       "Name: count, dtype: int64"
      ]
     },
     "execution_count": 19,
     "metadata": {},
     "output_type": "execute_result"
    }
   ],
   "source": [
    "df.Country.value_counts()[:35]"
   ]
  },
  {
   "cell_type": "code",
   "execution_count": 20,
   "id": "db9fadcf-c4cb-4044-9e7e-a6b7814262e6",
   "metadata": {},
   "outputs": [
    {
     "name": "stdout",
     "output_type": "stream",
     "text": [
      "Number of unique values is 2338 \n",
      "\n"
     ]
    },
    {
     "data": {
      "text/plain": [
       "Acronym\n",
       "COVID-19         47\n",
       "PROTECT           7\n",
       "CORONA            6\n",
       "SCOPE             5\n",
       "RECOVER           5\n",
       "                 ..\n",
       "IgG4-COVID        1\n",
       "Covid19-Pain      1\n",
       "FACE COVID-19     1\n",
       "SENTAD-COVID      1\n",
       "US3R              1\n",
       "Name: count, Length: 2338, dtype: int64"
      ]
     },
     "execution_count": 20,
     "metadata": {},
     "output_type": "execute_result"
    }
   ],
   "source": [
    "# Lets's start with Acronym\n",
    "print(f\"Number of unique values is {df.Acronym.nunique()} \\n\")\n",
    "df.Acronym.value_counts()"
   ]
  },
  {
   "cell_type": "code",
   "execution_count": 21,
   "id": "2e4b7f41-4519-45ca-aa08-fd45c56faae4",
   "metadata": {},
   "outputs": [
    {
     "data": {
      "text/plain": [
       "Country\n",
       " Bahrain                   100.000000\n",
       " Azerbaijan                100.000000\n",
       " Bosnia and Herzegovina    100.000000\n",
       " Cape Verde                100.000000\n",
       " Cambodia                  100.000000\n",
       " Bulgaria                  100.000000\n",
       " Belarus                   100.000000\n",
       " Cyprus                    100.000000\n",
       " Guinea-Bissau             100.000000\n",
       " Ecuador                   100.000000\n",
       " Dominican Republic        100.000000\n",
       " Iraq                      100.000000\n",
       " Rwanda                    100.000000\n",
       " South Sudan               100.000000\n",
       " North Macedonia           100.000000\n",
       " Kyrgyzstan                100.000000\n",
       " Uruguay                   100.000000\n",
       " Uzbekistan                100.000000\n",
       " Republic of                96.774194\n",
       " Taiwan                     93.750000\n",
       " Singapore                  93.103448\n",
       " Japan                      88.888889\n",
       " Kuwait                     87.500000\n",
       " China                      87.134503\n",
       " Turkey                     86.757991\n",
       " Ukraine                    85.714286\n",
       " Malaysia                   84.615385\n",
       " Egypt                      83.854167\n",
       " Hungary                    83.333333\n",
       " Hong Kong                  80.555556\n",
       " Kazakhstan                 80.000000\n",
       " Bangladesh                 80.000000\n",
       " India                      80.000000\n",
       " Saudi Arabia               77.777778\n",
       " Puerto Rico                76.470588\n",
       " Israel                     75.000000\n",
       " Zimbabwe                   75.000000\n",
       " Jordan                     72.727273\n",
       " Poland                     72.413793\n",
       " Indonesia                  71.428571\n",
       " United States              69.376480\n",
       " Romania                    69.230769\n",
       " Kenya                      66.666667\n",
       " Thailand                   66.666667\n",
       " Slovakia                   66.666667\n",
       " New Zealand                66.666667\n",
       " Lebanon                    66.666667\n",
       " Nepal                      66.666667\n",
       " Ethiopia                   66.666667\n",
       "nan                         66.324786\n",
       " Russian Federation         65.217391\n",
       " Islamic Republic of        65.217391\n",
       " Chile                      64.705882\n",
       " Austria                    62.068966\n",
       " Pakistan                   60.377358\n",
       " Brazil                     59.124088\n",
       " Mexico                     57.954545\n",
       " Sweden                     57.894737\n",
       " Argentina                  57.446809\n",
       " Canada                     55.940594\n",
       "Name: Acronym, dtype: float64"
      ]
     },
     "execution_count": 21,
     "metadata": {},
     "output_type": "execute_result"
    }
   ],
   "source": [
    "# Find the realtion between null values in Acronym and Countries\n",
    "(df.Acronym.isnull().groupby(df.Country).mean().sort_values(ascending = False) * 100)[:60]"
   ]
  },
  {
   "cell_type": "code",
   "execution_count": 22,
   "id": "21614f7f-c8de-4152-8aa1-4cd0d259f58a",
   "metadata": {},
   "outputs": [],
   "source": [
    "# impute by a missing Indicator\n",
    "df.Acronym = df.Acronym.fillna(\"Missing Acronym\")"
   ]
  },
  {
   "cell_type": "code",
   "execution_count": 23,
   "id": "01b1df73-9512-499e-9fc1-35342f6b7adf",
   "metadata": {},
   "outputs": [
    {
     "data": {
      "text/plain": [
       "NCT Number                  0.000000\n",
       "Title                       0.000000\n",
       "Acronym                     0.000000\n",
       "Status                      0.000000\n",
       "Study Results               0.000000\n",
       "Conditions                  0.000000\n",
       "Interventions              15.320768\n",
       "Outcome Measures            0.605222\n",
       "Sponsor/Collaborators       0.000000\n",
       "Gender                      0.172921\n",
       "Age                         0.000000\n",
       "Phases                     42.555767\n",
       "Enrollment                  0.587930\n",
       "Funded Bys                  0.000000\n",
       "Study Type                  0.000000\n",
       "Study Designs               0.605222\n",
       "Other IDs                   0.017292\n",
       "Start Date                  0.587930\n",
       "Primary Completion Date     0.622514\n",
       "Completion Date             0.622514\n",
       "First Posted                0.000000\n",
       "Last Update Posted          0.000000\n",
       "Locations                  10.115857\n",
       "URL                         0.000000\n",
       "Country                     0.000000\n",
       "dtype: float64"
      ]
     },
     "execution_count": 23,
     "metadata": {},
     "output_type": "execute_result"
    }
   ],
   "source": [
    "# Detecting (Percentage) Missing Data\n",
    "df.isnull().mean() * 100"
   ]
  },
  {
   "cell_type": "code",
   "execution_count": 24,
   "id": "5f15aa95-b000-45bf-a564-897f95b96f6f",
   "metadata": {},
   "outputs": [],
   "source": [
    "# Impute Interventions , Phases , Locations by Missing Category\n",
    "\n",
    "categorical_features = df.select_dtypes(include = object).columns\n",
    "\n",
    "features = categorical_features[df[categorical_features].isnull().mean() > 0]\n",
    "\n",
    "for feature in features:\n",
    "    df[feature] = df[feature].fillna(f\"Missing {feature}\")"
   ]
  },
  {
   "cell_type": "code",
   "execution_count": 25,
   "id": "a048a494-4f6b-4b70-ab5d-d7657a94de5f",
   "metadata": {},
   "outputs": [
    {
     "data": {
      "text/plain": [
       "NCT Number                 0.00000\n",
       "Title                      0.00000\n",
       "Acronym                    0.00000\n",
       "Status                     0.00000\n",
       "Study Results              0.00000\n",
       "Conditions                 0.00000\n",
       "Interventions              0.00000\n",
       "Outcome Measures           0.00000\n",
       "Sponsor/Collaborators      0.00000\n",
       "Gender                     0.00000\n",
       "Age                        0.00000\n",
       "Phases                     0.00000\n",
       "Enrollment                 0.58793\n",
       "Funded Bys                 0.00000\n",
       "Study Type                 0.00000\n",
       "Study Designs              0.00000\n",
       "Other IDs                  0.00000\n",
       "Start Date                 0.00000\n",
       "Primary Completion Date    0.00000\n",
       "Completion Date            0.00000\n",
       "First Posted               0.00000\n",
       "Last Update Posted         0.00000\n",
       "Locations                  0.00000\n",
       "URL                        0.00000\n",
       "Country                    0.00000\n",
       "dtype: float64"
      ]
     },
     "execution_count": 25,
     "metadata": {},
     "output_type": "execute_result"
    }
   ],
   "source": [
    "# Detecting (Percentage) Missing Data\n",
    "df.isnull().mean() * 100"
   ]
  },
  {
   "cell_type": "code",
   "execution_count": 26,
   "id": "20c57b05-d6bf-49b6-b08a-c5f09237691f",
   "metadata": {},
   "outputs": [
    {
     "data": {
      "text/plain": [
       "np.float64(34.06593382031148)"
      ]
     },
     "execution_count": 26,
     "metadata": {},
     "output_type": "execute_result"
    }
   ],
   "source": [
    "# Check the skewness\n",
    "df.Enrollment.skew()"
   ]
  },
  {
   "cell_type": "code",
   "execution_count": 27,
   "id": "db9979fb-0e14-48fc-9bff-52a99fafef9d",
   "metadata": {},
   "outputs": [
    {
     "data": {
      "text/plain": [
       "<Axes: ylabel='Density'>"
      ]
     },
     "execution_count": 27,
     "metadata": {},
     "output_type": "execute_result"
    },
    {
     "data": {
      "image/png": "[encoded data removed]",
      "text/plain": [
       "<Figure size 640x480 with 1 Axes>"
      ]
     },
     "metadata": {},
     "output_type": "display_data"
    }
   ],
   "source": [
    "# Plotting the distribution of the enrollment\n",
    "df.Enrollment.plot(kind = 'kde')"
   ]
  },
  {
   "cell_type": "code",
   "execution_count": 28,
   "id": "21a71341-4699-4279-b646-62cc91dc4c03",
   "metadata": {},
   "outputs": [
    {
     "name": "stdout",
     "output_type": "stream",
     "text": [
      "the min value is 0.0 \n",
      " The max value is 20000000.0 \n",
      " The mean is 18319.48860671421 \n",
      " The Median is 170.0 \n",
      " Standard Devation is 404543.7287841079\n"
     ]
    }
   ],
   "source": [
    "# Some Statstical Valuse for the Enrollment Column\n",
    "\n",
    "min_Value = df.Enrollment.min()\n",
    "max_Value = df.Enrollment.max()\n",
    "mean_Value = df.Enrollment.mean()\n",
    "median_Value = df.Enrollment.median()\n",
    "std_Value = df.Enrollment.std()\n",
    "\n",
    "print(f\"the min value is {min_Value} \\n \\\n",
    "The max value is {max_Value} \\n \\\n",
    "The mean is {mean_Value} \\n \\\n",
    "The Median is {median_Value} \\n \\\n",
    "Standard Devation is {std_Value}\")"
   ]
  },
  {
   "cell_type": "code",
   "execution_count": 29,
   "id": "a48c50ad-46f9-4f66-a6da-7e460abc5a24",
   "metadata": {},
   "outputs": [],
   "source": [
    "# Using Median to impute Missing Values\n",
    "df.Enrollment = df.Enrollment.fillna(median_Value)"
   ]
  },
  {
   "cell_type": "code",
   "execution_count": 30,
   "id": "c3989a89-91ed-42c4-a38f-7d51c9cdc18f",
   "metadata": {},
   "outputs": [
    {
     "data": {
      "text/plain": [
       "NCT Number                 0.0\n",
       "Title                      0.0\n",
       "Acronym                    0.0\n",
       "Status                     0.0\n",
       "Study Results              0.0\n",
       "Conditions                 0.0\n",
       "Interventions              0.0\n",
       "Outcome Measures           0.0\n",
       "Sponsor/Collaborators      0.0\n",
       "Gender                     0.0\n",
       "Age                        0.0\n",
       "Phases                     0.0\n",
       "Enrollment                 0.0\n",
       "Funded Bys                 0.0\n",
       "Study Type                 0.0\n",
       "Study Designs              0.0\n",
       "Other IDs                  0.0\n",
       "Start Date                 0.0\n",
       "Primary Completion Date    0.0\n",
       "Completion Date            0.0\n",
       "First Posted               0.0\n",
       "Last Update Posted         0.0\n",
       "Locations                  0.0\n",
       "URL                        0.0\n",
       "Country                    0.0\n",
       "dtype: float64"
      ]
     },
     "execution_count": 30,
     "metadata": {},
     "output_type": "execute_result"
    }
   ],
   "source": [
    "# Detecting (Percentage) Missing Data\n",
    "df.isnull().mean() * 100"
   ]
  },
  {
   "cell_type": "code",
   "execution_count": 31,
   "id": "7ab3469a-4839-49a7-a816-98f0d3fe6a57",
   "metadata": {},
   "outputs": [
    {
     "data": {
      "text/html": [
       "<div>\n",
       "<style scoped>\n",
       "    .dataframe tbody tr th:only-of-type {\n",
       "        vertical-align: middle;\n",
       "    }\n",
       "\n",
       "    .dataframe tbody tr th {\n",
       "        vertical-align: top;\n",
       "    }\n",
       "\n",
       "    .dataframe thead th {\n",
       "        text-align: right;\n",
       "    }\n",
       "</style>\n",
       "<table border=\"1\" class=\"dataframe\">\n",
       "  <thead>\n",
       "    <tr style=\"text-align: right;\">\n",
       "      <th></th>\n",
       "      <th>NCT Number</th>\n",
       "      <th>Title</th>\n",
       "      <th>Acronym</th>\n",
       "      <th>Status</th>\n",
       "      <th>Study Results</th>\n",
       "      <th>Conditions</th>\n",
       "      <th>Interventions</th>\n",
       "      <th>Outcome Measures</th>\n",
       "      <th>Sponsor/Collaborators</th>\n",
       "      <th>Gender</th>\n",
       "      <th>...</th>\n",
       "      <th>Study Designs</th>\n",
       "      <th>Other IDs</th>\n",
       "      <th>Start Date</th>\n",
       "      <th>Primary Completion Date</th>\n",
       "      <th>Completion Date</th>\n",
       "      <th>First Posted</th>\n",
       "      <th>Last Update Posted</th>\n",
       "      <th>Locations</th>\n",
       "      <th>URL</th>\n",
       "      <th>Country</th>\n",
       "    </tr>\n",
       "    <tr>\n",
       "      <th>Rank</th>\n",
       "      <th></th>\n",
       "      <th></th>\n",
       "      <th></th>\n",
       "      <th></th>\n",
       "      <th></th>\n",
       "      <th></th>\n",
       "      <th></th>\n",
       "      <th></th>\n",
       "      <th></th>\n",
       "      <th></th>\n",
       "      <th></th>\n",
       "      <th></th>\n",
       "      <th></th>\n",
       "      <th></th>\n",
       "      <th></th>\n",
       "      <th></th>\n",
       "      <th></th>\n",
       "      <th></th>\n",
       "      <th></th>\n",
       "      <th></th>\n",
       "      <th></th>\n",
       "    </tr>\n",
       "  </thead>\n",
       "  <tbody>\n",
       "    <tr>\n",
       "      <th>1</th>\n",
       "      <td>NCT04785898</td>\n",
       "      <td>Diagnostic Performance of the ID Now™ COVID-19...</td>\n",
       "      <td>COVID-IDNow</td>\n",
       "      <td>Active, not recruiting</td>\n",
       "      <td>No Results Available</td>\n",
       "      <td>Covid19</td>\n",
       "      <td>Diagnostic Test: ID Now™ COVID-19 Screening Test</td>\n",
       "      <td>Evaluate the diagnostic performance of the ID ...</td>\n",
       "      <td>Groupe Hospitalier Paris Saint Joseph</td>\n",
       "      <td>All</td>\n",
       "      <td>...</td>\n",
       "      <td>Allocation: N/A|Intervention Model: Single Gro...</td>\n",
       "      <td>COVID-IDNow</td>\n",
       "      <td>November 9, 2020</td>\n",
       "      <td>December 22, 2020</td>\n",
       "      <td>April 30, 2021</td>\n",
       "      <td>March 8, 2021</td>\n",
       "      <td>March 8, 2021</td>\n",
       "      <td>Groupe Hospitalier Paris Saint-Joseph, Paris, ...</td>\n",
       "      <td>https://ClinicalTrials.gov/show/NCT04785898</td>\n",
       "      <td>France</td>\n",
       "    </tr>\n",
       "    <tr>\n",
       "      <th>2</th>\n",
       "      <td>NCT04595136</td>\n",
       "      <td>Study to Evaluate the Efficacy of COVID19-0001...</td>\n",
       "      <td>COVID-19</td>\n",
       "      <td>Not yet recruiting</td>\n",
       "      <td>No Results Available</td>\n",
       "      <td>SARS-CoV-2 Infection</td>\n",
       "      <td>Drug: Drug COVID19-0001-USR|Drug: normal saline</td>\n",
       "      <td>Change on viral load results from baseline aft...</td>\n",
       "      <td>United Medical Specialties</td>\n",
       "      <td>All</td>\n",
       "      <td>...</td>\n",
       "      <td>Allocation: Randomized|Intervention Model: Par...</td>\n",
       "      <td>COVID19-0001-USR</td>\n",
       "      <td>November 2, 2020</td>\n",
       "      <td>December 15, 2020</td>\n",
       "      <td>January 29, 2021</td>\n",
       "      <td>October 20, 2020</td>\n",
       "      <td>October 20, 2020</td>\n",
       "      <td>Cimedical, Barranquilla, Atlantico, Colombia</td>\n",
       "      <td>https://ClinicalTrials.gov/show/NCT04595136</td>\n",
       "      <td>Colombia</td>\n",
       "    </tr>\n",
       "    <tr>\n",
       "      <th>3</th>\n",
       "      <td>NCT04395482</td>\n",
       "      <td>Lung CT Scan Analysis of SARS-CoV2 Induced Lun...</td>\n",
       "      <td>TAC-COVID19</td>\n",
       "      <td>Recruiting</td>\n",
       "      <td>No Results Available</td>\n",
       "      <td>covid19</td>\n",
       "      <td>Other: Lung CT scan analysis in COVID-19 patients</td>\n",
       "      <td>A qualitative analysis of parenchymal lung dam...</td>\n",
       "      <td>University of Milano Bicocca</td>\n",
       "      <td>All</td>\n",
       "      <td>...</td>\n",
       "      <td>Observational Model: Cohort|Time Perspective: ...</td>\n",
       "      <td>TAC-COVID19</td>\n",
       "      <td>May 7, 2020</td>\n",
       "      <td>June 15, 2021</td>\n",
       "      <td>June 15, 2021</td>\n",
       "      <td>May 20, 2020</td>\n",
       "      <td>November 9, 2020</td>\n",
       "      <td>Ospedale Papa Giovanni XXIII, Bergamo, Italy|P...</td>\n",
       "      <td>https://ClinicalTrials.gov/show/NCT04395482</td>\n",
       "      <td>San Marino</td>\n",
       "    </tr>\n",
       "    <tr>\n",
       "      <th>4</th>\n",
       "      <td>NCT04416061</td>\n",
       "      <td>The Role of a Private Hospital in Hong Kong Am...</td>\n",
       "      <td>COVID-19</td>\n",
       "      <td>Active, not recruiting</td>\n",
       "      <td>No Results Available</td>\n",
       "      <td>COVID</td>\n",
       "      <td>Diagnostic Test: COVID 19 Diagnostic Test</td>\n",
       "      <td>Proportion of asymptomatic subjects|Proportion...</td>\n",
       "      <td>Hong Kong Sanatorium &amp; Hospital</td>\n",
       "      <td>All</td>\n",
       "      <td>...</td>\n",
       "      <td>Observational Model: Cohort|Time Perspective: ...</td>\n",
       "      <td>RC-2020-08</td>\n",
       "      <td>May 25, 2020</td>\n",
       "      <td>July 31, 2020</td>\n",
       "      <td>August 31, 2020</td>\n",
       "      <td>June 4, 2020</td>\n",
       "      <td>June 4, 2020</td>\n",
       "      <td>Hong Kong Sanatorium &amp; Hospital, Hong Kong, Ho...</td>\n",
       "      <td>https://ClinicalTrials.gov/show/NCT04416061</td>\n",
       "      <td>Hong Kong</td>\n",
       "    </tr>\n",
       "    <tr>\n",
       "      <th>5</th>\n",
       "      <td>NCT04395924</td>\n",
       "      <td>Maternal-foetal Transmission of SARS-Cov-2</td>\n",
       "      <td>TMF-COVID-19</td>\n",
       "      <td>Recruiting</td>\n",
       "      <td>No Results Available</td>\n",
       "      <td>Maternal Fetal Infection Transmission|COVID-19...</td>\n",
       "      <td>Diagnostic Test: Diagnosis of SARS-Cov2 by RT-...</td>\n",
       "      <td>COVID-19 by positive PCR in cord blood and / o...</td>\n",
       "      <td>Centre Hospitalier Régional d'Orléans|Centre d...</td>\n",
       "      <td>Female</td>\n",
       "      <td>...</td>\n",
       "      <td>Observational Model: Cohort|Time Perspective: ...</td>\n",
       "      <td>CHRO-2020-10</td>\n",
       "      <td>May 5, 2020</td>\n",
       "      <td>May 2021</td>\n",
       "      <td>May 2021</td>\n",
       "      <td>May 20, 2020</td>\n",
       "      <td>June 4, 2020</td>\n",
       "      <td>CHR Orléans, Orléans, France</td>\n",
       "      <td>https://ClinicalTrials.gov/show/NCT04395924</td>\n",
       "      <td>France</td>\n",
       "    </tr>\n",
       "  </tbody>\n",
       "</table>\n",
       "<p>5 rows × 25 columns</p>\n",
       "</div>"
      ],
      "text/plain": [
       "       NCT Number                                              Title  \\\n",
       "Rank                                                                   \n",
       "1     NCT04785898  Diagnostic Performance of the ID Now™ COVID-19...   \n",
       "2     NCT04595136  Study to Evaluate the Efficacy of COVID19-0001...   \n",
       "3     NCT04395482  Lung CT Scan Analysis of SARS-CoV2 Induced Lun...   \n",
       "4     NCT04416061  The Role of a Private Hospital in Hong Kong Am...   \n",
       "5     NCT04395924         Maternal-foetal Transmission of SARS-Cov-2   \n",
       "\n",
       "           Acronym                  Status         Study Results  \\\n",
       "Rank                                                               \n",
       "1      COVID-IDNow  Active, not recruiting  No Results Available   \n",
       "2         COVID-19      Not yet recruiting  No Results Available   \n",
       "3      TAC-COVID19              Recruiting  No Results Available   \n",
       "4         COVID-19  Active, not recruiting  No Results Available   \n",
       "5     TMF-COVID-19              Recruiting  No Results Available   \n",
       "\n",
       "                                             Conditions  \\\n",
       "Rank                                                      \n",
       "1                                               Covid19   \n",
       "2                                  SARS-CoV-2 Infection   \n",
       "3                                               covid19   \n",
       "4                                                 COVID   \n",
       "5     Maternal Fetal Infection Transmission|COVID-19...   \n",
       "\n",
       "                                          Interventions  \\\n",
       "Rank                                                      \n",
       "1      Diagnostic Test: ID Now™ COVID-19 Screening Test   \n",
       "2       Drug: Drug COVID19-0001-USR|Drug: normal saline   \n",
       "3     Other: Lung CT scan analysis in COVID-19 patients   \n",
       "4             Diagnostic Test: COVID 19 Diagnostic Test   \n",
       "5     Diagnostic Test: Diagnosis of SARS-Cov2 by RT-...   \n",
       "\n",
       "                                       Outcome Measures  \\\n",
       "Rank                                                      \n",
       "1     Evaluate the diagnostic performance of the ID ...   \n",
       "2     Change on viral load results from baseline aft...   \n",
       "3     A qualitative analysis of parenchymal lung dam...   \n",
       "4     Proportion of asymptomatic subjects|Proportion...   \n",
       "5     COVID-19 by positive PCR in cord blood and / o...   \n",
       "\n",
       "                                  Sponsor/Collaborators  Gender  ...  \\\n",
       "Rank                                                             ...   \n",
       "1                 Groupe Hospitalier Paris Saint Joseph     All  ...   \n",
       "2                            United Medical Specialties     All  ...   \n",
       "3                          University of Milano Bicocca     All  ...   \n",
       "4                       Hong Kong Sanatorium & Hospital     All  ...   \n",
       "5     Centre Hospitalier Régional d'Orléans|Centre d...  Female  ...   \n",
       "\n",
       "                                          Study Designs         Other IDs  \\\n",
       "Rank                                                                        \n",
       "1     Allocation: N/A|Intervention Model: Single Gro...       COVID-IDNow   \n",
       "2     Allocation: Randomized|Intervention Model: Par...  COVID19-0001-USR   \n",
       "3     Observational Model: Cohort|Time Perspective: ...       TAC-COVID19   \n",
       "4     Observational Model: Cohort|Time Perspective: ...        RC-2020-08   \n",
       "5     Observational Model: Cohort|Time Perspective: ...      CHRO-2020-10   \n",
       "\n",
       "            Start Date Primary Completion Date   Completion Date  \\\n",
       "Rank                                                               \n",
       "1     November 9, 2020       December 22, 2020    April 30, 2021   \n",
       "2     November 2, 2020       December 15, 2020  January 29, 2021   \n",
       "3          May 7, 2020           June 15, 2021     June 15, 2021   \n",
       "4         May 25, 2020           July 31, 2020   August 31, 2020   \n",
       "5          May 5, 2020                May 2021          May 2021   \n",
       "\n",
       "          First Posted Last Update Posted  \\\n",
       "Rank                                        \n",
       "1        March 8, 2021      March 8, 2021   \n",
       "2     October 20, 2020   October 20, 2020   \n",
       "3         May 20, 2020   November 9, 2020   \n",
       "4         June 4, 2020       June 4, 2020   \n",
       "5         May 20, 2020       June 4, 2020   \n",
       "\n",
       "                                              Locations  \\\n",
       "Rank                                                      \n",
       "1     Groupe Hospitalier Paris Saint-Joseph, Paris, ...   \n",
       "2          Cimedical, Barranquilla, Atlantico, Colombia   \n",
       "3     Ospedale Papa Giovanni XXIII, Bergamo, Italy|P...   \n",
       "4     Hong Kong Sanatorium & Hospital, Hong Kong, Ho...   \n",
       "5                          CHR Orléans, Orléans, France   \n",
       "\n",
       "                                              URL      Country  \n",
       "Rank                                                            \n",
       "1     https://ClinicalTrials.gov/show/NCT04785898       France  \n",
       "2     https://ClinicalTrials.gov/show/NCT04595136     Colombia  \n",
       "3     https://ClinicalTrials.gov/show/NCT04395482   San Marino  \n",
       "4     https://ClinicalTrials.gov/show/NCT04416061    Hong Kong  \n",
       "5     https://ClinicalTrials.gov/show/NCT04395924       France  \n",
       "\n",
       "[5 rows x 25 columns]"
      ]
     },
     "execution_count": 31,
     "metadata": {},
     "output_type": "execute_result"
    }
   ],
   "source": [
    "df.head()"
   ]
  },
  {
   "cell_type": "code",
   "execution_count": 32,
   "id": "f593140a-865f-4698-ba28-442ca1327416",
   "metadata": {},
   "outputs": [
    {
     "data": {
      "image/png": "[encoded data removed]",
      "text/plain": [
       "<Figure size 1500x800 with 1 Axes>"
      ]
     },
     "metadata": {},
     "output_type": "display_data"
    }
   ],
   "source": [
    "# Get Countires with highest Contributiuons\n",
    "top_10_Countires = df.Country.value_counts()[:10]\n",
    "visualize_data(top_10_Countires , caption = 'Top 10 Countries', ylabel = 'Contributions')"
   ]
  },
  {
   "cell_type": "code",
   "execution_count": 33,
   "id": "fdec42b5-21d1-47aa-913d-bd5f0c2a3a45",
   "metadata": {},
   "outputs": [
    {
     "data": {
      "image/png": "[encoded data removed]",
      "text/plain": [
       "<Figure size 1500x800 with 1 Axes>"
      ]
     },
     "metadata": {},
     "output_type": "display_data"
    }
   ],
   "source": [
    "# Status of the Application\n",
    "status = df.Status.value_counts()\n",
    "\n",
    "visualize_data(status , caption = 'Status of The Application' ,ylabel = 'Denisty')"
   ]
  },
  {
   "cell_type": "code",
   "execution_count": 34,
   "id": "921c356e-e8be-4a20-8a6c-6dc22069e1b0",
   "metadata": {},
   "outputs": [
    {
     "data": {
      "image/png": "[encoded data removed]",
      "text/plain": [
       "<Figure size 1500x800 with 1 Axes>"
      ]
     },
     "metadata": {},
     "output_type": "display_data"
    }
   ],
   "source": [
    "# Gender Visualiztions\n",
    "gender = df.Gender.value_counts()\n",
    "visualize_data(gender , caption = 'Gender Distribution' ,ylabel = 'Denisty')"
   ]
  },
  {
   "cell_type": "code",
   "execution_count": 35,
   "id": "a6617902-8a13-494d-8bba-f8ee0d4e0b82",
   "metadata": {},
   "outputs": [
    {
     "data": {
      "image/png": "[encoded data removed]",
      "text/plain": [
       "<Figure size 1500x800 with 1 Axes>"
      ]
     },
     "metadata": {},
     "output_type": "display_data"
    }
   ],
   "source": [
    "# Which month has the highest start\n",
    "start_month = pd.Series([ str(df['Start Date'].iloc[i]).split(' ')[0] for i in range (df.shape[0])])\n",
    "\n",
    "start_month_Distribution = start_month.value_counts()\n",
    "\n",
    "visualize_data(start_month_Distribution , caption = 'Start Month Distribution' , ylabel = 'Denisty')"
   ]
  },
  {
   "cell_type": "code",
   "execution_count": 36,
   "id": "24c91779-b080-4860-baf0-91dec108ea76",
   "metadata": {},
   "outputs": [
    {
     "name": "stdout",
     "output_type": "stream",
     "text": [
      "The shape of data frame is (5783, 25)\n",
      "Nunique in NCT Number is 5783\n",
      "Nunique in URL is 5783\n"
     ]
    }
   ],
   "source": [
    "print(f\"The shape of data frame is {df.shape}\")\n",
    "print(f\"Nunique in NCT Number is {df['NCT Number'].nunique()}\")\n",
    "print(f\"Nunique in URL is {df.URL.nunique()}\")"
   ]
  },
  {
   "cell_type": "code",
   "execution_count": null,
   "id": "b5d07146-89f0-4f0f-bfae-8fd52f40c932",
   "metadata": {},
   "outputs": [],
   "source": []
  }
 ],
 "metadata": {
  "kernelspec": {
   "display_name": "Python 3 (ipykernel)",
   "language": "python",
   "name": "python3"
  },
  "language_info": {
   "codemirror_mode": {
    "name": "ipython",
    "version": 3
   },
   "file_extension": ".py",
   "mimetype": "text/x-python",
   "name": "python",
   "nbconvert_exporter": "python",
   "pygments_lexer": "ipython3",
   "version": "3.13.3"
  }
 },
 "nbformat": 4,
 "nbformat_minor": 5
}
